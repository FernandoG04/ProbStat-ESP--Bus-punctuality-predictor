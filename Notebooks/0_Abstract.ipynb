{
 "cells": [
  {
   "cell_type": "markdown",
   "metadata": {},
   "source": [
    "\n",
    "<div style=\"display: flex; justify-content: space-between;\">\n",
    "<a style=\"flex: 1; text-align: left;\" href=\"../README.md\">← Previous: Main Page</a>\n",
    "<a style=\"flex: 1; text-align: right;\" href=\"./1_Introduction.ipynb\">Next: 1. Introduction →</a>\n",
    "</div>\n",
    "\n",
    "### 0. Abstract\n",
    "---\n"
   ]
  },
  {
   "cell_type": "markdown",
   "metadata": {},
   "source": [
    "<div style=\"display: flex; justify-content: space-between;\">\n",
    "<a style=\"flex: 1; text-align: left;\" href=\"../README.md\">← Previous: Main Page</a>\n",
    "<span style=\"flex: 1; text-align: center;\">0. Abstract</span>\n",
    "<a style=\"flex: 1; text-align: right;\" href=\"./1_Introduction.ipynb\">Next: 1. Introduction →</a>\n",
    "</div>\n"
   ]
  }
 ],
 "metadata": {
  "language_info": {
   "name": "python"
  }
 },
 "nbformat": 4,
 "nbformat_minor": 2
}
