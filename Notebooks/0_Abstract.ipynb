{
 "cells": [
  {
   "cell_type": "markdown",
   "metadata": {},
   "source": [
    "<div style=\"display: flex; justify-content: space-between;\">\n\n<a style=\"flex: 1; text-align: right;\" href=\"./1_Introduction.ipynb\">Next: 1. Introduction \u2192</a>\n</div>\n\n### 0. Abstract\n---\n"
   ]
  }
 ],
 "metadata": {
  "language_info": {
   "name": "python"
  }
 },
 "nbformat": 4,
 "nbformat_minor": 2
}