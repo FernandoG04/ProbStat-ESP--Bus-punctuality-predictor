{
 "cells": [
  {
   "cell_type": "markdown",
   "metadata": {},
   "source": [
    "<div style=\"text-align: justify; line-height: 2\">\n",
    "&nbsp;&nbsp;&nbsp;&nbsp;&nbsp; This research studies the predictability of bus punctuality within the Société de transport de Montréal (STM) network using multiple linear regression (MLR) techniques. The study involves an analysis of bus-related, weather, and traffic datasets, assuming predetermined variables influence bus punctuality, including bus line, time of day, temperature, precipitation, and start delay. Theoretical principles of MLR are explored and then applied to predictive models. Data preparation involved data cleaning and manipulation. MLR models were then constructed based on the assumed variables. However, after initial experimentation, the models were found to be inaccurate. An additional crucial variable, traffic, was then added to the dataset, and separate models for each bus line were constructed. The models were evaluated using the r-squared coefficient and the mean root squared error (MRSE). Initial findings indicate that weather, time, and bus data alone are not significant predictors of bus punctuality for the STM network as the model reached a maximum r-squared value of 0.054. However, the addition of traffic data increased the r-squared value of some models to over 0.3, suggesting that traffic is a significant predictor of bus punctuality for around 30% of cases. Further research is required to refine the models and determine the factors that influence bus punctuality for the remaining 70% of cases.\n",
    "</div>"
   ]
  }
 ],
 "metadata": {
  "kernelspec": {
   "display_name": "Python 3",
   "language": "python",
   "name": "python3"
  },
  "language_info": {
   "name": "python",
   "version": "3.11.6"
  }
 },
 "nbformat": 4,
 "nbformat_minor": 2
}
