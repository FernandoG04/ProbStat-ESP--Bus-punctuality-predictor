{
 "cells": [
  {
   "cell_type": "markdown",
   "metadata": {},
   "source": [
    "<div style=\"display: flex; justify-content: space-between;\">\n",
    "    <a style=\"flex: 1; text-align: left;\" href=\"https://github.com/FernandoG04/ProbStat-ESP--Bus-punctuality-predictor\">← Previous: Main Page</a>\n",
    "    <a style=\"flex: 1; text-align: right;\" href=\"./1_Introduction.ipynb\">Next: 1. Introduction →</a>\n",
    "</div>\n",
    "\n",
    "### Abstract \n",
    "---"
   ]
  },
  {
   "cell_type": "markdown",
   "metadata": {},
   "source": [
    "&nbsp;&nbsp;&nbsp;&nbsp;&nbsp; "
   ]
  }
 ],
 "metadata": {
  "language_info": {
   "name": "python"
  }
 },
 "nbformat": 4,
 "nbformat_minor": 2
}
