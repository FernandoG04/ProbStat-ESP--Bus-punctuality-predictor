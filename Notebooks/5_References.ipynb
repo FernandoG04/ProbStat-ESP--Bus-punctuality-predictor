{
 "cells": [
  {
   "cell_type": "markdown",
   "metadata": {},
   "source": [
    "[^1]: [PennState Eberly College of Science](https://online.stat.psu.edu/stat501/lesson/5)  \n",
    "[^2]: [Ivan T. Ivanov](https://euclid.vaniercollege.qc.ca/~iti/probstatA23/Lectures/HTH_ITI_L27.pdf)  \n",
    "[^3]: [OpenStax](https://openstax.org/books/introductory-statistics/pages/12-3-the-regression-equation)  \n",
    "[^4]: [Heij, De Boer; Franses, Kloep; and Van Dijk](https://global.oup.com/booksites/content/0199268010/)    \n",
    "[^5]: [Mostoufi, Navid; Constantinides, Alkis](https://doi.org/10.1016/B978-0-12-822961-3.00008-X)  "
   ]
  }
 ],
 "metadata": {
  "language_info": {
   "name": "python"
  }
 },
 "nbformat": 4,
 "nbformat_minor": 2
}
