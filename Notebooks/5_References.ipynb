{
 "cells": [
  {
   "cell_type": "markdown",
   "metadata": {},
   "source": [
    "<div style=\"display: flex; justify-content: space-between;\">\n",
    "<a style=\"flex: 1; text-align: left;\" href=\"./4_Conclusions.ipynb\">← Previous: Conclusions</a>\n",
    "<a style=\"flex: 1; text-align: right;\" href=\"./6_1_1_Bus.ipynb\">Next: Appendix A.1: Bus Data →</a>\n",
    "</div>\n",
    "\n",
    "### References\n",
    "---\n"
   ]
  },
  {
   "cell_type": "markdown",
   "metadata": {},
   "source": [
    "<p style=\"text-indent: -3em; padding-left: 3em;\">\n",
    "Heij, Christiaan, Paul de Boer, Philip Hans Franses, Teun Kloek, and Herman van Dijk. 2004. “3.1 Least Squares in Matrix Form.” In Econometric Methods with Applications in Business and Economics. Oxford University Press. <a href=\"https://global.oup.com/booksites/content/0199268010/\">https://global.oup.com/booksites/content/0199268010/</a>.\n",
    "</p>  \n",
    "<p style=\"text-indent: -3em; padding-left: 3em;\">\n",
    "Illowsky, Barbara, and Susan Dean. 2013a. “12.3 The Regression Equation.” In Introductory Statistics. OpenStax. <a href=\"https://openstax.org/books/introductory-statistics/pages/12-3-the-regression-equation\">https://openstax.org/books/introductory-statistics/pages/12-3-the-regression-equation</a>.  \n",
    "</p>\n",
    "<p style=\"text-indent: -3em; padding-left: 3em;\">\n",
    "———. 2013b. “12.4 Testing the Significance of the Correlation Coefficient.” In Introductory Statistics. OpenStax. <a href=\"https://openstax.org/books/introductory-statistics/pages/12-4-testing-the-significance-of-the-correlation-coefficient\">https://openstax.org/books/introductory-statistics/pages/12-4-testing-the-significance-of-the-correlation-coefficient</a>.\n",
    "</p>\n",
    "<p style=\"text-indent: -3em; padding-left: 3em;\">\n",
    "Ivanov, Ivan T. 2023. “§27. Linear Regression.” <a href=\"https://euclid.vaniercollege.qc.ca/~iti/probstatA23/Lectures/HTH_ITI_L27.pdf\">https://euclid.vaniercollege.qc.ca/~iti/probstatA23/Lectures/HTH_ITI_L27.pdf</a>.   \n",
    "</p>\n",
    "<p style=\"text-indent: -3em; padding-left: 3em;\">\n",
    "PennState Eberly College of Science: Department of Statistics. n.d.-a. “1.1 - What Is Simple Linear Regression?” In STAT 501. <a href=\"https://online.stat.psu.edu/stat501/lesson/1/1.1\">https://online.stat.psu.edu/stat501/lesson/1/1.1</a>. \n",
    "</p> \n",
    "<p style=\"text-indent: -3em; padding-left: 3em;\">\n",
    "———. n.d.-b. “7.3 - MLR Model Assumptions.” In STAT 501. <a href=\"https://online.stat.psu.edu/stat501/lesson/7/7.3\">https://online.stat.psu.edu/stat501/lesson/7/7.3</a>.  \n",
    "</p>\n",
    "<p style=\"text-indent: -3em; padding-left: 3em;\">\n",
    "———. n.d.-c. “12.3 - Highly Correlated Predictors.” In STAT 501. <a href=\"https://online.stat.psu.edu/stat501/lesson/12/12.3\">https://online.stat.psu.edu/stat501/lesson/12/12.3</a>.  \n",
    "</p>\n",
    "<p style=\"text-indent: -3em; padding-left: 3em;\">\n",
    "———. n.d.-d. STAT 501. <a href=\"https://online.stat.psu.edu/stat501/\">https://online.stat.psu.edu/stat501/</a>.  \n",
    "</p>\n",
    "<p style=\"text-indent: -3em; padding-left: 3em;\">\n",
    "Wilcox, Rand R. 2003. “Probability and Related Concepts.” In Applying Contemporary Statistical Techniques, 17–53. Elsevier. <a href=\"https://doi.org/10.1016/B978-012751541-0/50023-7\">https://doi.org/10.1016/B978-012751541-0/50023-7</a>.  \n",
    "</p>"
   ]
  },
  {
   "cell_type": "markdown",
   "metadata": {},
   "source": [
    "<div style=\"display: flex; justify-content: space-between;\">\n",
    "<a style=\"flex: 1; text-align: left;\" href=\"./4_Conclusions.ipynb\">← Previous: Conclusions</a>\n",
    "<span style=\"flex: 1; text-align: center;\">References</span>\n",
    "<a style=\"flex: 1; text-align: right;\" href=\"./6_1_1_Bus.ipynb\">Next: Appendix A.1: Bus Data →</a>\n",
    "</div>\n"
   ]
  }
 ],
 "metadata": {
  "language_info": {
   "name": "python"
  }
 },
 "nbformat": 4,
 "nbformat_minor": 2
}
