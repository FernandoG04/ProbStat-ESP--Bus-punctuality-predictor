{
 "cells": [
  {
   "cell_type": "markdown",
   "metadata": {},
   "source": [
    "<div style=\"display: flex; justify-content: space-between;\">\n",
    "<a style=\"flex: 1; text-align: left;\" href=\"./4_Conclusions.ipynb\">← Previous: 4. Conclusions</a>\n",
    "<a style=\"flex: 1; text-align: right;\" href=\"../README.md\">Main Page</a>\n",
    "</div>\n",
    "\n",
    "### 5. References\n",
    "---\n"
   ]
  },
  {
   "cell_type": "markdown",
   "metadata": {},
   "source": [
    "[^1]: [PennState Eberly College of Science](https://online.stat.psu.edu/stat501/lesson/5)  \n",
    "[^2]: [Ivan T. Ivanov](https://euclid.vaniercollege.qc.ca/~iti/probstatA23/Lectures/HTH_ITI_L27.pdf)  \n",
    "[^3]: [OpenStax](https://openstax.org/books/introductory-statistics/pages/12-3-the-regression-equation)"
   ]
  },
  {
   "cell_type": "markdown",
   "metadata": {},
   "source": [
    "<div style=\"display: flex; justify-content: space-between;\">\n",
    "<a style=\"flex: 1; text-align: left;\" href=\"./4_Conclusions.ipynb\">← Previous: 4. Conclusions</a>\n",
    "<span style=\"flex: 1; text-align: center;\">5. References</span>\n",
    "<a style=\"flex: 1; text-align: right;\" href=\"../README.md\">Main Page</a>\n",
    "\n",
    "</div>\n"
   ]
  }
 ],
 "metadata": {
  "language_info": {
   "name": "python"
  }
 },
 "nbformat": 4,
 "nbformat_minor": 2
}
