{
 "cells": [
  {
   "cell_type": "markdown",
   "metadata": {},
   "source": [
    "<div style=\"display: flex; justify-content: space-between;\">\n",
    "<a style=\"flex: 1; text-align: left;\" href=\"./4_Conclusions.ipynb\">← Previous: 4. Conclusions</a>\n",
    "<a style=\"flex: 1; text-align: right;\" href=\"../README.md\">Main Page</a>\n",
    "</div>\n",
    "\n",
    "### 5. References\n",
    "---\n"
   ]
  },
  {
   "cell_type": "markdown",
   "metadata": {},
   "source": [
    "<div style=\"display: flex; justify-content: space-between;\">\n",
    "<a style=\"flex: 1; text-align: left;\" href=\"./4_Conclusions.ipynb\">← Previous: 4. Conclusions</a>\n",
    "<span style=\"flex: 1; text-align: center;\">5. References</span>\n",
    "<a style=\"flex: 1; text-align: right;\" href=\"../README.md\">Main Page</a>\n",
    "\n",
    "</div>\n"
   ]
  }
 ],
 "metadata": {
  "language_info": {
   "name": "python"
  }
 },
 "nbformat": 4,
 "nbformat_minor": 2
}
