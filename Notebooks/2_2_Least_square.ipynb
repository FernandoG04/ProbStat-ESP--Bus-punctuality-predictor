{
 "cells": [
  {
   "cell_type": "markdown",
   "metadata": {},
   "source": [
    "<div style=\"display: flex; justify-content: space-between;\">\n<a style=\"flex: 1; text-align: left;\" href=\"./2_1_Multiple_linear_regresion.ipynb\">\u2190 Previous: 2.1 Multiple Linear Regression</a>\n<a style=\"flex: 1; text-align: right;\" href=\"./2_3_Error_term.ipynb\">Next: 2.3 Estimation of the Error Term \u2192</a>\n</div>\n\n### 2.2 Least Squares Estimation of the Parameters\n---\n"
   ]
  }
 ],
 "metadata": {},
 "nbformat": 4,
 "nbformat_minor": 2
}