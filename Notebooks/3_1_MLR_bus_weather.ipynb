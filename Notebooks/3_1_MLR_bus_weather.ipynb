{
 "cells": [
  {
   "cell_type": "markdown",
   "metadata": {},
   "source": [
    "<div style=\"display: flex; justify-content: space-between;\">\n",
    "<a style=\"flex: 1; text-align: left;\" href=\"./2_4_Significance.ipynb\">← Previous: 2.4 Tests for the Significance of the Regression</a>\n",
    "<a style=\"flex: 1; text-align: right;\" href=\"./3_2_MLR_bus_traffic.ipynb\">Next: 3.2 Model Building with Traffic →</a>\n",
    "</div>\n",
    "\n",
    "### 3.1 Model Building with Weather\n",
    "---\n"
   ]
  },
  {
   "cell_type": "markdown",
   "metadata": {},
   "source": [
    "<div style=\"text-align: justify; line-height: 2\">\n",
    "\n",
    "&nbsp;&nbsp;&nbsp;&nbsp;&nbsp;Using the methods introduced in the previous sections, we will attempt to build a model that predicts the length of a bus delay based on the weather conditions. The data set combines the weather data from the [Government of Canada](../Data/Weather%20Data/), and the bus data from the [Société de Transport de Montréal](../Data/Transit%20data/) from October 2021 to September 2023. A sample of the data is shown below.\n",
    "\n",
    "\n",
    "<div align=\"center\">\n",
    "\n",
    "|     | line | delay_start | start_time | temp_start | rain_amt | snow_amt | delay_end |\n",
    "| :-: | :--: | :---------: | :--------: | :--------: | :------: | :------: | :-------: |\n",
    "|  0  | 3.0  |      0      |     10     |    15.1    |   0.0    |   0.0    |    -1     |\n",
    "|  1  | 3.0  |      0      |     42     |    15.1    |   0.0    |   0.0    |    -3     |\n",
    "|  2  | 3.0  |     -1      |     73     |    13.7    |   0.0    |   0.0    |    -5     |\n",
    "|  3  | 3.0  |      0      |    306     |    11.8    |   0.0    |   0.0    |    -2     |\n",
    "|  4  | 3.0  |      2      |    341     |    11.8    |   0.0    |   0.0    |    -1     |\n",
    "\n",
    "*Table 3.1.1: Sample of the data set used for model building*\n",
    "\n",
    "</div>\n",
    "\n",
    "\n",
    "\n",
    "\n",
    "\n",
    "<sup><a href=\"#footnote2\">2</a></sup>\n",
    "\n",
    "</div>\n",
    "&nbsp;  \n",
    "&nbsp;  \n",
    "\n",
    "---\n",
    "\n",
    "<a name=\"footnote1\"></a>1: [PennState Eberly College of Science](./5_References.ipynb#1)  \n",
    "<a name=\"footnote2\"></a>2: [Ivan T. Ivanov](./5_References.ipynb#2)  \n",
    "<a name=\"footnote3\"></a>3: [OpenStax](./5_References.ipynb#3)  \n",
    "<a name=\"footnote4\"></a>4: [Heij, De Boer; Franses, Kloep; and Van Dijk](./5_References.ipynb#4)  \n",
    "<a name=\"footnote5\"></a>5: [Mostoufi, Navid; Constantinides, Alkis](./5_References.ipynb#5)"
   ]
  },
  {
   "cell_type": "code",
   "execution_count": null,
   "metadata": {
    "vscode": {
     "languageId": "plaintext"
    }
   },
   "outputs": [],
   "source": [
    "<div align=\"center\">\n",
    "\n",
    "|     | line | delay_start | start_time | temp_start | rain_amt | snow_amt | delay_end |\n",
    "| :-: | :--: | :---------: | :--------: | :--------: | :------: | :------: | :-------: |\n",
    "|  0  | 3.0  |      0      |     10     |    15.1    |   0.0    |   0.0    |    -1     |\n",
    "|  1  | 3.0  |      0      |     42     |    15.1    |   0.0    |   0.0    |    -3     |\n",
    "|  2  | 3.0  |     -1      |     73     |    13.7    |   0.0    |   0.0    |    -5     |\n",
    "|  3  | 3.0  |      0      |    306     |    11.8    |   0.0    |   0.0    |    -2     |\n",
    "|  4  | 3.0  |      2      |    341     |    11.8    |   0.0    |   0.0    |    -1     |\n",
    "\n",
    "*Table 3.1.1: Sample of the data set used for model building*\n",
    "\n",
    "</div>"
   ]
  },
  {
   "cell_type": "markdown",
   "metadata": {},
   "source": [
    "<div style=\"display: flex; justify-content: space-between;\">\n",
    "<a style=\"flex: 1; text-align: left;\" href=\"./2_4_Significance.ipynb\">← Previous: 2.4 Tests for the Significance of the Regression</a>\n",
    "<span style=\"flex: 1; text-align: center;\">3.1 Model Building with Weather</span>\n",
    "<a style=\"flex: 1; text-align: right;\" href=\"./3_2_MLR_bus_traffic.ipynb\">Next: 3.2 Model Building with Traffic →</a>\n",
    "</div>\n"
   ]
  }
 ],
 "metadata": {
  "language_info": {
   "name": "python"
  }
 },
 "nbformat": 4,
 "nbformat_minor": 2
}
