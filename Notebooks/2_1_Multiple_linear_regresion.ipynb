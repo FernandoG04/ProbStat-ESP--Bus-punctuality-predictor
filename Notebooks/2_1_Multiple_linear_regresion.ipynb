{
 "cells": [
  {
   "cell_type": "markdown",
   "metadata": {},
   "source": [
    "<div style=\"display: flex; justify-content: space-between;\">\n<a style=\"flex: 1; text-align: left;\" href=\"./1_Introduction.ipynb\">\u2190 Previous: 1. Introduction</a>\n<a style=\"flex: 1; text-align: right;\" href=\"./2_2_Least_square.ipynb\">Next: 2.2 Least Squares Estimation of the Parameters \u2192</a>\n</div>\n\n### 2.1 Multiple Linear Regression\n---\n"
   ]
  },
  {
   "cell_type": "markdown",
   "metadata": {},
   "source": [
    "<div style=\"display: flex; justify-content: space-between;\">\n<a style=\"flex: 1; text-align: left;\" href=\"./1_Introduction.ipynb\">\u2190 Previous: 1. Introduction</a>\n<span style=\"flex: 1; text-align: center;\">2.1 Multiple Linear Regression</span>\n<a style=\"flex: 1; text-align: right;\" href=\"./2_2_Least_square.ipynb\">Next: 2.2 Least Squares Estimation of the Parameters \u2192</a>\n</div>\n"
   ]
  }
 ],
 "metadata": {},
 "nbformat": 4,
 "nbformat_minor": 2
}