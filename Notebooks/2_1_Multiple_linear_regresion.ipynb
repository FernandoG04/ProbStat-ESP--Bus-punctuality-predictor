{
 "cells": [
  {
   "cell_type": "markdown",
   "metadata": {},
   "source": [
    "<div style=\"display: flex; justify-content: space-between;\">\n",
    "<a style=\"flex: 1; text-align: left;\" href=\"./1_Introduction.ipynb\">← Previous: 1. Introduction</a>\n",
    "<a style=\"flex: 1; text-align: right;\" href=\"./2_2_Least_square.ipynb\">Next: 2.2 Least Squares Estimation of the Parameters →</a>\n",
    "</div>\n",
    "\n",
    "### 2.1 Multiple Linear Regression\n",
    "---\n"
   ]
  },
  {
   "cell_type": "markdown",
   "metadata": {},
   "source": [
    "&nbsp;&nbsp;&nbsp;&nbsp;&nbsp;&nbsp;Linear regression is a statistical model that examines a linear predictive relationship between a dependent (scalar) variable and one (Simple Linear Regression) or more (Multiple Linear Regression) independent variables[^1]. The dependent variable is also called the response variable, and the independent variables are called the predictor variables[^2]. The model is expressed as follows:"
   ]
  },
  {
   "cell_type": "markdown",
   "metadata": {},
   "source": [
    "[^1]: [PennState Eberly College of Science](https://online.stat.psu.edu/stat501/lesson/2/2.1)\n",
    "\n",
    "[^2]: [Wikipedia](https://en.wikipedia.org/wiki/Linear_regression)"
   ]
  },
  {
   "cell_type": "markdown",
   "metadata": {},
   "source": [
    "<div style=\"display: flex; justify-content: space-between;\">\n",
    "<a style=\"flex: 1; text-align: left;\" href=\"./1_Introduction.ipynb\">← Previous: 1. Introduction</a>\n",
    "<span style=\"flex: 1; text-align: center;\">2.1 Multiple Linear Regression</span>\n",
    "<a style=\"flex: 1; text-align: right;\" href=\"./2_2_Least_square.ipynb\">Next: 2.2 Least Squares Estimation of the Parameters →</a>\n",
    "</div>\n"
   ]
  }
 ],
 "metadata": {
  "language_info": {
   "name": "python"
  }
 },
 "nbformat": 4,
 "nbformat_minor": 2
}
