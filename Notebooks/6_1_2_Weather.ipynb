{
 "cells": [
  {
   "cell_type": "markdown",
   "metadata": {},
   "source": [
    "<div style=\"display: flex; justify-content: space-between;\">\n",
    "<a style=\"flex: 1; text-align: left;\" href=\"./3_1_1_Bus.ipynb\">← Previous: 3.1.1 Bus Data</a>\n",
    "<a style=\"flex: 1; text-align: right;\" href=\"./3_1_3_Traffic.ipynb\">Next: 3.1.3 Traffic Data →</a>\n",
    "</div>\n",
    "\n",
    "### 3.1.2 Weather Data\n",
    "---\n"
   ]
  },
  {
   "cell_type": "markdown",
   "metadata": {},
   "source": [
    "> The purpose of this notebook is to modify the bus data provided by the STM and the historical weather data obtained from the Government of Canada site.  \n",
    "> Running this script is not necessary as the modified data is available upon download/cloning of the repository."
   ]
  },
  {
   "cell_type": "code",
   "execution_count": null,
   "metadata": {},
   "outputs": [],
   "source": [
    "import os\n",
    "import pandas as pd\n",
    "import numpy as np\n",
    "import time\n",
    "import urllib.request\n",
    "import glob\n",
    "from datetime import datetime, timedelta"
   ]
  },
  {
   "cell_type": "markdown",
   "metadata": {},
   "source": [
    ">The following cells retrieve the weather data from the [Environment Canada website](https://climate.weather.gc.ca/historical_data/search_historic_data_e.html)"
   ]
  },
  {
   "cell_type": "code",
   "execution_count": null,
   "metadata": {},
   "outputs": [],
   "source": [
    "STM_df = pd.read_csv('../data/Transit data/STM_Data.csv')"
   ]
  },
  {
   "cell_type": "code",
   "execution_count": null,
   "metadata": {
    "tags": []
   },
   "outputs": [],
   "source": [
    "# Select search parameters\n",
    "yi = 2021 # Select start year\n",
    "yf = 2023 + 1 # Select end year\n",
    "station = 30165 # Select station ID (Montreal-Trudeau Airport is 30165)\n",
    "\n",
    "\n",
    "#Retrieve daily weather data from the Government of Canada website and store in Individual Files folder\n",
    "for year in range(yi, yf):\n",
    "        url = 'https://climate.weather.gc.ca/climate_data/bulk_data_e.html?format=csv&stationID=' + str(station) + '&Year=' + str(year) + '&Month=1&Day=14&timeframe=2&submit=Download+Data'\n",
    "        filename = os.path.join('../Data/Weather Data/Individual Files', 'daily_montreal_weather_' + str(year) + '.csv')\n",
    "        try: \n",
    "            urllib.request.urlretrieve(url, filename)\n",
    "        except Exception as e:\n",
    "            print(f\"An error occurred while downloading data for year {year}\")\n",
    "        time.sleep(5)\n",
    "\n",
    "#Retrieve hourly weather data from the Government of Canada website and store in Individual Files folder\n",
    "for year in range(yi, yf):\n",
    "   \n",
    "    if year == 2021:\n",
    "        mi = 10\n",
    "        mf = 12 + 1\n",
    "    elif year == 2023:\n",
    "        mi = 1\n",
    "        mf = 9 + 1\n",
    "    else:\n",
    "        mi = 1\n",
    "        mf = 12 + 1\n",
    "    for month in range(mi, mf):\n",
    "        if month < 10:\n",
    "            month = '0' + str(month)\n",
    "        else:\n",
    "            month = str(month)\n",
    "        url = 'https://climate.weather.gc.ca/climate_data/bulk_data_e.html?format=csv&time=UTC&stationID=' + str(station) + '&Year=' + str(year) + '&Month=' + str(month) + '&Day=14&timeframe=1&submit=Download+Data'\n",
    "        filename = os.path.join('../Data/Weather Data/Individual Files', 'hourly_montreal_weather_' + str(year) + '_' + str(month) + '.csv')\n",
    "        try:\n",
    "            urllib.request.urlretrieve(url, filename)\n",
    "        except Exception as e:\n",
    "            print(f\"An error occurred while downloading data for year {year} and month {month}: {e}\")\n",
    "        time.sleep(5)\n",
    "\n",
    "# merge all csv files into their corresponing dataframes and store them in the Weather Data folder\n",
    "all_dailyw = glob.glob(os.path.join('../Data/Weather Data/Individual Files', \"daily_montreal_weather_*.csv\")) \n",
    "all_hourlyw = glob.glob(os.path.join('../Data/Weather Data/Individual Files', \"hourly_montreal_weather_*.csv\"))\n",
    "\n",
    "df_all_dailyw = (pd.read_csv(f) for f in all_dailyw)\n",
    "df_dailyw = pd.concat(df_all_dailyw, ignore_index=True)\n",
    "df_all_hourlyw = (pd.read_csv(f) for f in all_hourlyw)\n",
    "df_hourlyw = pd.concat(df_all_hourlyw, ignore_index=True)\n",
    "\n",
    "df_dailyw.to_csv('../Data/Weather Data/daily_montreal_weather.csv', index=False)\n",
    "df_hourlyw.to_csv('../Data/Weather Data/hourly_montreal_weather.csv', index=False)\n",
    "\n",
    "# delete all individual csv files\n",
    "files = glob.glob('../Data/Weather Data/Individual Files/*')\n",
    "for f in files:\n",
    "    os.remove(f)"
   ]
  },
  {
   "cell_type": "markdown",
   "metadata": {},
   "source": [
    "1. Daily data for snow"
   ]
  },
  {
   "cell_type": "code",
   "execution_count": null,
   "metadata": {},
   "outputs": [],
   "source": [
    "# Read back the daily weather data to perform formatting\n",
    "# Since snow on ground is only available for daily data, the presence of snow is determined by the daily data, shown as Y/N\n",
    "# The daily data is later applied to the hourly data (see master data below)\n",
    "\n",
    "df_dailyw = pd.read_csv('../Data/Weather Data/daily_montreal_weather.csv', dtype={0: str, 2: str, 3: str, 4: str, 5: str, 6: str, 7: str})\n",
    "df_dailyw = df_dailyw.dropna(axis=1, how='all')\n",
    "df_dailyw = df_dailyw.rename(columns={'Date/Time': 'date', 'Snow on Grnd (cm)': 'snow'})"
   ]
  },
  {
   "cell_type": "code",
   "execution_count": null,
   "metadata": {},
   "outputs": [],
   "source": [
    "# Date and time formatting\n",
    "# Change date format and remove rows with dates that are not in the STM data\n",
    "try:\n",
    "    df_dailyw['date'] = pd.to_datetime(df_dailyw['date'],errors='coerce')\n",
    "except Exception as e:\n",
    "    print(f\"An error occurred while converting the Date: {e}\")\n",
    "    \n",
    "df_dailyw = df_dailyw[df_dailyw['date'].isin(STM_df['date'])]"
   ]
  },
  {
   "cell_type": "code",
   "execution_count": null,
   "metadata": {},
   "outputs": [],
   "source": [
    "# Place the date and snow columns first and remove the rest\n",
    "\n",
    "cols = df_dailyw.columns.tolist()  \n",
    "fifth_col = cols[4]\n",
    "fifth_to_last_col = cols[-5]\n",
    "cols = [col for col in cols if col not in {cols[4], fifth_to_last_col}]\n",
    "cols = [fifth_col, fifth_to_last_col]\n",
    "df_dailyw = df_dailyw[cols]\n",
    "\n",
    "# Place a value of 0 for snow if NaN\n",
    "df_dailyw['snow'] = df_dailyw['snow'].fillna(0)\n",
    "\n",
    "# Place a value of Y for snow if >0 and N if 0 or Nan in a new column\n",
    "df_dailyw['snow_yn'] = np.where(df_dailyw['snow'] > 0, 'Y', 'N')"
   ]
  },
  {
   "cell_type": "code",
   "execution_count": null,
   "metadata": {},
   "outputs": [],
   "source": [
    "df_dailyw.head()"
   ]
  },
  {
   "cell_type": "code",
   "execution_count": null,
   "metadata": {},
   "outputs": [],
   "source": [
    "# Uncomment to save the dataframe as a csv file\n",
    "#df_dailyw.to_csv('../Data/Weather Data/daily_montreal_weather.csv', index=False)"
   ]
  },
  {
   "cell_type": "markdown",
   "metadata": {},
   "source": [
    "2) Hourly data for precipitation"
   ]
  },
  {
   "cell_type": "code",
   "execution_count": null,
   "metadata": {},
   "outputs": [],
   "source": [
    "# Read back the hourly weather data to perform formatting\n",
    "# The hourly data is formatted as UTC, the time is converted to EST\n",
    "df_hourlyw = pd.read_csv('../Data/Weather Data/hourly_montreal_weather.csv', dtype={0: str, 2: str, 3: str, 4: str, 5: str, 6: str, 7: str})\n",
    "df_hourlyw = df_hourlyw.dropna(axis=1, how='all')\n",
    "df_hourlyw = df_hourlyw.rename(columns={'Date/Time (UTC)': 'date', 'Time (UTC)': 'time', 'Temp (°C)' : 'temp', 'Precip. Amount (mm)' : 'precip'})"
   ]
  },
  {
   "cell_type": "code",
   "execution_count": null,
   "metadata": {},
   "outputs": [],
   "source": [
    "# Change format of date columns to datetime, change from UTC to EST taking into account daylight savings time\n",
    "# Change time column to reflect the time in the date column\n",
    "try:\n",
    "    df_hourlyw['date'] = pd.to_datetime(df_hourlyw['date'],errors='coerce')\n",
    "except Exception as e:\n",
    "    print(f\"An error occurred while converting the Date: {e}\")\n",
    "\n",
    "df_hourlyw['date'] = df_hourlyw['date'].dt.tz_localize('UTC').dt.tz_convert('America/Montreal')\n",
    "df_hourlyw['time'] = df_hourlyw['date'].dt.strftime('%H:%M')\n",
    "df_hourlyw['date'] = df_hourlyw['date'].dt.date\n",
    "\n",
    "# Change date format and remove rows with dates that are not in the STM data\n",
    "try:\n",
    "    df_hourlyw['date'] = pd.to_datetime(df_hourlyw['date'],errors='coerce')\n",
    "except Exception as e:\n",
    "    print(f\"An error occurred while converting the Date: {e}\")\n",
    "    \n",
    "df_hourlyw = df_hourlyw[df_hourlyw['date'].isin(STM_df['date'])]\n",
    "\n",
    "# Place the date, time, temp and precip columns first and remove the rest\n",
    "cols = df_hourlyw.columns.tolist()\n",
    "date_col = cols[4]\n",
    "time_col = cols[8]\n",
    "temp_col = cols[9]\n",
    "precip_col = cols[12]\n",
    "cols = [col for col in cols if col not in {date_col, time_col, temp_col, precip_col}]\n",
    "cols = [date_col, time_col, temp_col, precip_col]\n",
    "df_hourlyw = df_hourlyw[cols]"
   ]
  },
  {
   "cell_type": "code",
   "execution_count": null,
   "metadata": {},
   "outputs": [],
   "source": [
    "# Uncomment to save the dataframe as a csv file\n",
    "#df_hourlyw.to_csv('../Data/Weather Data/hourly_montreal_weather.csv', index=False)"
   ]
  },
  {
   "cell_type": "markdown",
   "metadata": {},
   "source": [
    "## Master data"
   ]
  },
  {
   "cell_type": "markdown",
   "metadata": {},
   "source": [
    "> The master data used for this project includes the following:\n",
    "> - Bus data\n",
    ">   - Date*\n",
    ">   - Line\n",
    ">   - Start time\n",
    ">   - Start delay\n",
    ">   - End time*\n",
    "> - Weather data\n",
    ">   - Temperature at start \n",
    ">   - Rain amount\n",
    ">   - Snow amount\n",
    ">   - Total snow*\n",
    ">\n",
    "> These variables will be used to predict the end delay.  \n",
    "> *: These variables are included in the master data for later use, but they are not used as predictors"
   ]
  },
  {
   "cell_type": "markdown",
   "metadata": {},
   "source": [
    "1. Bus data (date, line, start_time, end_time)"
   ]
  },
  {
   "cell_type": "code",
   "execution_count": null,
   "metadata": {},
   "outputs": [],
   "source": [
    "# Create a new dataframe for the master data with columns from the STM data\n",
    "STM_df = pd.read_csv('../Data/Transit data/STM_Data.csv',  dtype={0: str, 2: str, 3: str, 4: str, 5: str, 6: str, 7: str,8:str})\n",
    "df_master = STM_df[['id','date', 'ligne', 'dep_rl', 'arr_rl']]\n",
    "df_hourlyw = pd.read_csv('../Data/Weather Data/hourly_montreal_weather.csv',  dtype={0: str, 2: str, 3: str, 4: str, 5: str, 6: str, 7: str})\n",
    "df_dailyw = pd.read_csv('../Data/Weather Data/daily_montreal_weather.csv',  dtype={0: str, 2: str, 3: str, 4: str, 5: str, 6: str, 7: str})\n",
    "\n",
    "df_master = df_master.rename(columns={'dep_rl': 'start_time', 'arr_rl': 'end_time', 'ligne': 'line'})\n",
    "df_hourlyw['date'] = pd.to_datetime(df_hourlyw['date'], errors='coerce')\n",
    "df_dailyw['date'] = pd.to_datetime(df_dailyw['date'], errors='coerce')\n",
    "\n",
    "# Cut the date from the start_time column and keep only the time as HH:MM\n",
    "for col in ['start_time', 'end_time']:\n",
    "    df_master[col] = df_master[col].astype(str)\n",
    "    df_master[col] = df_master[col].str.slice(start=11, stop=16)\n",
    "    df_master[col] = pd.to_datetime(df_master[col], format='%H:%M', errors='coerce').dt.time\n",
    "\n",
    "# Delete nan values in the start_time column\n",
    "df_master = df_master.dropna(subset=['start_time'])\n",
    "\n",
    "df_master.head()"
   ]
  },
  {
   "cell_type": "markdown",
   "metadata": {},
   "source": [
    "2. Temperature at start (temp_start)"
   ]
  },
  {
   "cell_type": "code",
   "execution_count": null,
   "metadata": {},
   "outputs": [],
   "source": [
    "# Add temp_start column to the master data, using the hourly weather data which matches the date and hour of the start time\n",
    "# Must create an hour columm in the master data to match the time column in the weather data (HH:MM)\n",
    "# Match atch the start hour with the next hour in the weather data since the weather time is the end of the hour\n",
    "\n",
    "df_master['hour'] = df_master['start_time'].astype(str)\n",
    "df_master['hour'] = df_master['hour'].str.slice(start=0, stop=2)\n",
    "df_master['hour'] = df_master['hour'].astype(int)\n",
    "df_master['hour'] = df_master['hour'] + 1\n",
    "df_master['hour'] = df_master['hour'].astype(str)\n",
    "df_master['hour'] = df_master['hour'].str.pad(width=2, side='left', fillchar='0')\n",
    "df_master['hour'] = df_master['hour'] + ':00'\n",
    "\n",
    "# Rename the time column in hourly data to hour\n",
    "df_hourlyw = df_hourlyw.rename(columns={'time': 'hour'})\n",
    "\n",
    "df_master['date'] = pd.to_datetime(df_master['date'])\n",
    "df_hourlyw['date'] = pd.to_datetime(df_hourlyw['date'])\n",
    "\n",
    "df_master = pd.merge(df_master, df_hourlyw, how='left', on=['date', 'hour'])\n",
    "df_master = df_master.rename(columns={'temp': 'temp_start'})\n",
    "df_master = df_master.drop(columns=['hour'])\n",
    "\n",
    "df_master.head()"
   ]
  },
  {
   "cell_type": "markdown",
   "metadata": {},
   "source": [
    "3. Precipitation (snow_amt, rain_amt)"
   ]
  },
  {
   "cell_type": "code",
   "execution_count": null,
   "metadata": {},
   "outputs": [],
   "source": [
    "# Add rain_amt and snow_amt columns to the master data, using the daily weather data which matches the date\n",
    "# For the snow_amt column, if the snow_yn column is Y, then take the value of the precip column, otherwise set to 0\n",
    "# For the rain_amt column, if the snow_yn column is N, then take the value of the precip column, otherwise set to 0\n",
    "\n",
    "df_master = pd.merge(df_master, df_dailyw, how='left', left_on=['date'], right_on=['date'])\n",
    "df_master = df_master.rename(columns={'precip': 'rain_amt', 'snow': 'total_snow'})\n",
    "df_master['snow_amt'] = np.where(df_master['snow_yn'] == 'Y', df_master['rain_amt'], 0)\n",
    "df_master['rain_amt'] = np.where(df_master['snow_yn'] == 'N', df_master['rain_amt'], 0)\n",
    "df_master = df_master.drop(columns=['snow_yn',])\n",
    "\n",
    "df_master.head()"
   ]
  },
  {
   "cell_type": "markdown",
   "metadata": {},
   "source": [
    "4. Delays (delay_start, delay_end)"
   ]
  },
  {
   "cell_type": "code",
   "execution_count": null,
   "metadata": {},
   "outputs": [],
   "source": [
    "# Import dep_pl, dep_rl, arr_pl, arr_rl columns from the stm data to the master data\n",
    "# Cut the seconds off from the time columns\n",
    "df_master = pd.merge(df_master, STM_df[['id', 'dep_pl', 'dep_rl', 'arr_pl', 'arr_rl']], how='left', left_on=['id'], right_on=['id'])\n",
    "\n",
    "for col in ['dep_pl', 'dep_rl', 'arr_pl', 'arr_rl']:\n",
    "    df_master[col] = df_master[col].astype(str)\n",
    "    df_master[col] = df_master[col].str.slice(start=0, stop=16)\n",
    "    df_master[col] = df_master[col] + ':00'\n",
    "    df_master[col] = pd.to_datetime(df_master[col], format='%Y-%m-%d %H:%M:%S', errors='coerce')\n",
    "\n",
    "# Find the delays in minutes between the planned and real departure times in minutes\n",
    "df_master['delay_start'] = (df_master['dep_rl'] - df_master['dep_pl']).dt.total_seconds() / 60\n",
    "df_master['delay_start'] = df_master['delay_start'].astype(int)\n",
    "\n",
    "df_master['delay_end'] = (df_master['arr_rl'] - df_master['arr_pl']).dt.total_seconds() / 60\n",
    "df_master['delay_end'] = df_master['delay_end'].astype(int)\n",
    "\n",
    "df_master = df_master.drop(columns=['dep_pl', 'dep_rl', 'arr_pl', 'arr_rl'])\n",
    "\n",
    "df_master.head()\n"
   ]
  },
  {
   "cell_type": "code",
   "execution_count": null,
   "metadata": {},
   "outputs": [],
   "source": [
    "# Verify there are not many delays over 10 hours\n",
    "\n",
    "pd.set_option('display.max_rows', None)\n",
    "pd.set_option('display.max_columns', None)\n",
    "\n",
    "print(df_master.loc[abs(df_master['delay_start']) > 600])\n",
    "print(df_master.loc[abs(df_master['delay_end']) > 600])"
   ]
  },
  {
   "cell_type": "markdown",
   "metadata": {},
   "source": [
    "5. Organization"
   ]
  },
  {
   "cell_type": "code",
   "execution_count": null,
   "metadata": {},
   "outputs": [],
   "source": [
    "cols = df_master.columns.tolist()\n",
    "id_col = cols[0]\n",
    "date_col = cols[1]\n",
    "line_col = cols[2]\n",
    "delay_start_col = cols[9]\n",
    "cols = [col for col in cols if col not in {id_col,date_col, line_col, delay_start_col}]\n",
    "\n",
    "cols = [id_col,date_col, line_col, delay_start_col] + cols\n",
    "df_master = df_master[cols]\n",
    "\n",
    "df_master.head()\n"
   ]
  },
  {
   "cell_type": "code",
   "execution_count": null,
   "metadata": {},
   "outputs": [],
   "source": [
    "# Show unique line values\n",
    "print(df_master['line'].unique())\n",
    "print(STM_df['ligne'].unique())"
   ]
  },
  {
   "cell_type": "code",
   "execution_count": null,
   "metadata": {},
   "outputs": [],
   "source": [
    "#Seems like the STM did not provide data for the 193 line ._."
   ]
  },
  {
   "cell_type": "code",
   "execution_count": null,
   "metadata": {},
   "outputs": [],
   "source": [
    "# Uncomment to save the dataframe as a csv file\n",
    "#df_master.to_csv('../Data/master_data.csv', index=False)"
   ]
  },
  {
   "cell_type": "markdown",
   "metadata": {},
   "source": [
    "<div style=\"display: flex; justify-content: space-between;\">\n",
    "<a style=\"flex: 1; text-align: left;\" href=\"./3_1_1_Bus.ipynb\">← Previous: 3.1.1 Bus Data</a>\n",
    "<span style=\"flex: 1; text-align: center;\">3.1.2 Weather Data</span>\n",
    "<a style=\"flex: 1; text-align: right;\" href=\"./3_1_3_Traffic.ipynb\">Next: 3.1.3 Traffic Data →</a>\n",
    "</div>\n"
   ]
  }
 ],
 "metadata": {
  "kernelspec": {
   "display_name": "Python 3",
   "language": "python",
   "name": "python3"
  },
  "language_info": {
   "codemirror_mode": {
    "name": "ipython",
    "version": 3
   },
   "file_extension": ".py",
   "mimetype": "text/x-python",
   "name": "python",
   "nbconvert_exporter": "python",
   "pygments_lexer": "ipython3",
   "version": "3.11.6"
  }
 },
 "nbformat": 4,
 "nbformat_minor": 2
}
