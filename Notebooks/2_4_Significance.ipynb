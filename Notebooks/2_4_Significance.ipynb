{
 "cells": [
  {
   "cell_type": "markdown",
   "metadata": {},
   "source": [
    "<div style=\"display: flex; justify-content: space-between;\">\n<a style=\"flex: 1; text-align: left;\" href=\"./2_3_Error_term.ipynb\">\u2190 Previous: 2.3 Estimation of the Error Term</a>\n<a style=\"flex: 1; text-align: right;\" href=\"./2_5_Model_building.ipynb\">Next: 2.5 Model Building \u2192</a>\n</div>\n\n### 2.4 Tests for the Significance of the Regression\n---\n"
   ]
  },
  {
   "cell_type": "markdown",
   "metadata": {},
   "source": [
    "<div style=\"display: flex; justify-content: space-between;\">\n<a style=\"flex: 1; text-align: left;\" href=\"./2_3_Error_term.ipynb\">\u2190 Previous: 2.3 Estimation of the Error Term</a>\n<span style=\"flex: 1; text-align: center;\">2.4 Tests for the Significance of the Regression</span>\n<a style=\"flex: 1; text-align: right;\" href=\"./2_5_Model_building.ipynb\">Next: 2.5 Model Building \u2192</a>\n</div>\n"
   ]
  }
 ],
 "metadata": {},
 "nbformat": 4,
 "nbformat_minor": 2
}