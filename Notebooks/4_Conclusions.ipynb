{
 "cells": [
  {
   "cell_type": "markdown",
   "metadata": {},
   "source": [
    "<div style=\"display: flex; justify-content: space-between;\">\n<a style=\"flex: 1; text-align: left;\" href=\"./3_2_2_MLR_bus_traffic.ipynb\">\u2190 Previous: 3.2.2 MLR with Traffic</a>\n<a style=\"flex: 1; text-align: right;\" href=\"./5_References.ipynb\">Next: 5. References \u2192</a>\n</div>\n\n### 4. Conclusions\n---\n"
   ]
  }
 ],
 "metadata": {},
 "nbformat": 4,
 "nbformat_minor": 2
}