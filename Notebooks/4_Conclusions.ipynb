{
 "cells": [
  {
   "cell_type": "markdown",
   "metadata": {},
   "source": [
    "<div style=\"display: flex; justify-content: space-between;\">\n",
    "<a style=\"flex: 1; text-align: left;\" href=\"./3_2_MLR_bus_traffic.ipynb\">← Previous: 3.2 Model Building with Traffic</a>\n",
    "<a style=\"flex: 1; text-align: right;\" href=\"./5_References.ipynb\">Next: References →</a>\n",
    "</div>\n",
    "\n",
    "### Conclusions\n",
    "---"
   ]
  },
  {
   "cell_type": "markdown",
   "metadata": {},
   "source": [
    "<div style=\"text-align: justify; line-height: 2\">\n",
    "&nbsp;&nbsp;&nbsp;&nbsp;&nbsp;The purpose of this project was to build a model that predicts the length of a bus delay based on weather and traffic conditions in Montreal, Canada. Two model attempts were made. The first used a dataset that combined the transit data from the Société de Transport de Montréal (STM) and the weather data from the Government of Canada from October 2021 to September 2023. The second model added traffic data from the City of Montreal to the dataset, with the limitation that the traffic data was only available for the time period of November 26, 2019 to September 9, 2023. A t-test backward elimination approach was used to select the most significant predictors and appropriate transformations were applied to to improve the model fit. For the final model, separate models were built for each line to account for possible differences in the effects of the predictors on the response variable.\n",
    "\n",
    "The results of the analysis showed that weather conditions did not have a significant impact on the bus delays. The weather variables, including temperature at start, rain amount, and snow amount had all very low correlations with the delay at the end of the trip as they were not statistically significant in most of the models. The only exception were the models for lines 100 and 460, where temperature was the only significant weather variable. The R-squared values for the models with weather variables were also very low with a value of 0.049, which increased to only 0.054 after selecting datapoints over 90% of the mean delay. This suggests that STM trips are not significantly delayed by weather conditions and that the weather variables are not good predictors of the bus delays.\n",
    "\n",
    "The traffic conditions, on the other hand, had a moderate impact on the bus delays. The traffic variables, such as the total traffic and the number of vehicles at each direction and heading, had high correlations with the delay at the end of the trip. However, the variables separating the traffic by direction and heading had very high correlations with each other, so only the total traffic variable was used in the final models. The total traffic variable had a positive non-linear correlation with the delay at the end of the trip, which was captured by the square root transformation. The final models included the start delay, the temperature at start, and the square root of the total traffic. The addition of traffic had a different effect for each bus line. The bus lines with the highest adjusted R-squared values were 100, 460, and 439, which had values of 0.31, 0.34, and 0.26, respectively. This indicates that traffic conditions are a good predictor of the variability in the bus delays for these lines, along with the slight effect of the other predictors. However, the adjusted R-squared values for the other lines were much lower, with values ranging from 0.04 to 0.94, indicating that the models did not explain the a significant amount of the variability in the bus delays for these lines. This suggests that the traffic conditions are not a good predictor of the bus delays for these lines, and that other factors may be more important. The disparity in the results for the different bus lines suggests that the bus lines are affected differently by the traffic conditions. However, the limitations of this study prevent the determination of the exact cause of this disparity. \n",
    "\n",
    "The main limitations of this study was the lack of data on other factors that could affect the bus delays, such as passenger count, road conditions, accidents, construction, and driver behaviour. These factors could have a stronger effect on the bus delays than the weather and traffic conditions, and could account for the unexplained variance in the models. Another limitation was the lack of traffic data for the entire time period of the study and the lack of information on the arrival at each stop for each trip. Due to these limitations, the models were built using the sum of the traffic data \n",
    "of traffic data for the entire time period of the trip, for significantly less data points than those available in the first model. This could have affected the results of the models, as the traffic conditions at each stop may be more important than the total traffic conditions for the entire trip. Future studies should collect and include more data on these factors to improve the predictive power of the models.\n",
    "\n",
    "The main implication of this project is that the weather and traffic conditions are not by themselves reliable indicators of bus delays in the Montreal STM network. Therefore, bus users and planners should not rely on these factors to adjust to the bus schedules. Instead, they should use services that provide real-time information on the geolocation of the buses, such as the STM website and the Transit app, to plan their trips. This highlights the importance of this type of service, as well as the need for more research led by the STM to determine the factors that affect the bus delays. This research could be used to improve the efficiency of the bus network and enhance the convenience of the bus users.\n",
    "</div>\n",
    "\n",
    "\n",
    "&nbsp;\n",
    "&nbsp;\n",
    "\n",
    "---"
   ]
  },
  {
   "cell_type": "markdown",
   "metadata": {},
   "source": [
    "<div style=\"display: flex; justify-content: space-between;\">\n",
    "<a style=\"flex: 1; text-align: left;\" href=\"./3_2_MLR_bus_traffic.ipynb\">← Previous: 3.2 Model Building with Traffic</a>\n",
    "<span style=\"flex: 1; text-align: center;\">Conclusions</span>\n",
    "<a style=\"flex: 1; text-align: right;\" href=\"./5_References.ipynb\">Next: References →</a>\n",
    "</div>\n"
   ]
  }
 ],
 "metadata": {
  "language_info": {
   "name": "python"
  }
 },
 "nbformat": 4,
 "nbformat_minor": 2
}
