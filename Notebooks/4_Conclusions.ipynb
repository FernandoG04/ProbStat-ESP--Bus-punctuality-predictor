{
 "cells": [
  {
   "cell_type": "markdown",
   "metadata": {},
   "source": [
    "<div style=\"display: flex; justify-content: space-between;\">\n<a style=\"flex: 1; text-align: left;\" href=\"./3_2_MLR_bus_traffic.ipynb\">\u2190 Previous: 3.2 Model Building with Traffic</a>\n<a style=\"flex: 1; text-align: right;\" href=\"./5_References.ipynb\">Next: References \u2192</a>\n</div>\n\n### Conclusions\n---\n"
   ]
  },
  {
   "cell_type": "markdown",
   "metadata": {},
   "source": [
    "<div style=\"display: flex; justify-content: space-between;\">\n<a style=\"flex: 1; text-align: left;\" href=\"./3_2_MLR_bus_traffic.ipynb\">\u2190 Previous: 3.2 Model Building with Traffic</a>\n<span style=\"flex: 1; text-align: center;\">Conclusions</span>\n<a style=\"flex: 1; text-align: right;\" href=\"./5_References.ipynb\">Next: References \u2192</a>\n</div>\n"
   ]
  }
 ],
 "metadata": {
  "language_info": {
   "name": "python"
  }
 },
 "nbformat": 4,
 "nbformat_minor": 2
}