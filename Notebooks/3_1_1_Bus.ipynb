{
 "cells": [
  {
   "cell_type": "markdown",
   "metadata": {},
   "source": [
    "<div style=\"display: flex; justify-content: space-between;\">\n",
    "<a style=\"flex: 1; text-align: left;\" href=\"./2_5_Model_building.ipynb\">← Previous: 2.5 Model Building</a>\n",
    "<a style=\"flex: 1; text-align: right;\" href=\"./3_1_2_Weather.ipynb\">Next: 3.1.2 Weather →</a>\n",
    "</div>\n",
    "\n",
    "### 3.1.1 Bus\n",
    "---\n"
   ]
  }
 ],
 "metadata": {
  "language_info": {
   "name": "python"
  }
 },
 "nbformat": 4,
 "nbformat_minor": 2
}
