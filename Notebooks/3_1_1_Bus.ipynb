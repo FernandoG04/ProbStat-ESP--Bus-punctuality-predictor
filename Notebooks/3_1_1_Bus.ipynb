{
 "cells": [
  {
   "cell_type": "markdown",
   "metadata": {},
   "source": [
    "<div style=\"display: flex; justify-content: space-between;\">\n",
    "<a style=\"flex: 1; text-align: left;\" href=\"./2_5_Model_building.ipynb\">\u2190 Previous: 2.5 Model Building</a>\n",
    "<a style=\"flex: 1; text-align: right;\" href=\"./3_1_2_Weather.ipynb\">Next: 3.1.2 Weather \u2192</a>\n",
    "</div>\n",
    "\n",
    "### 3.1.1 Bus\n",
    "---\n"
   ]
  },
  {
   "cell_type": "markdown",
   "metadata": {},
   "source": [
    "<div style=\"display: flex; justify-content: space-between;\">\n<a style=\"flex: 1; text-align: left;\" href=\"./2_5_Model_building.ipynb\">\u2190 Previous: 2.5 Model Building</a>\n<span style=\"flex: 1; text-align: center;\">3.1.1 Bus</span>\n<a style=\"flex: 1; text-align: right;\" href=\"./3_1_2_Weather.ipynb\">Next: 3.1.2 Weather \u2192</a>\n</div>\n"
   ]
  }
 ],
 "metadata": {
  "language_info": {
   "name": "python"
  }
 },
 "nbformat": 4,
 "nbformat_minor": 2
}