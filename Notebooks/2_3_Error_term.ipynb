{
 "cells": [
  {
   "cell_type": "markdown",
   "metadata": {},
   "source": [
    "<div style=\"display: flex; justify-content: space-between;\">\n",
    "<a style=\"flex: 1; text-align: left;\" href=\"./2_2_Least_square.ipynb\">← Previous: 2.2 Least Squares Estimation of the Parameters</a>\n",
    "<a style=\"flex: 1; text-align: right;\" href=\"./2_4_Significance.ipynb\">Next: 2.4 Tests for the Significance of the Regression →</a>\n",
    "</div>\n",
    "\n",
    "### 2.3 Estimation of the Error Term\n",
    "---\n"
   ]
  },
  {
   "cell_type": "markdown",
   "metadata": {},
   "source": [
    "<div style=\"text-align: justify; line-height: 2\">\n",
    "\n",
    "To estimate the variance of the error term, we use equations \n",
    "\n",
    "$$\\hat{\\sigma}^2 = \\frac{1}{n-2} \\sum_{i=1}^{n} \\hat{e}_i^2$$\n",
    "\n",
    "where $\\hat{e}_i = y_i - \\hat{y}_i$ is the residual for the $i$th observation. The denominator is $n-2$ because we have two estimated parameters, $\\hat{\\beta}_0$ and $\\hat{\\beta}_1$. The variance of the error term is estimated by the mean squared error (MSE), which is the mean of the squared residuals. The MSE is also called the residual mean square (RMS) or the residual variance. The square root of the MSE is called the root mean square error (RMSE). The RMSE is the standard deviation of the residuals. \n",
    "</div>\n",
    "&nbsp;  \n",
    "&nbsp;  \n",
    "\n",
    "---\n",
    "\n",
    "<a name=\"footnote1\"></a>1: [PennState Eberly College of Science](./5_References.ipynb#1) (Note:7.3)  \n",
    "<a name=\"footnote2\"></a>2: [Ivan T. Ivanov](./5_References.ipynb#2)  \n",
    "<a name=\"footnote3\"></a>3: [OpenStax](./5_References.ipynb#3)  \n",
    "<a name=\"footnote4\"></a>4: [Heij, De Boer; Franses, Kloek; and Van Dijk](./5_References.ipynb#4)"
   ]
  },
  {
   "cell_type": "markdown",
   "metadata": {},
   "source": [
    "<div style=\"display: flex; justify-content: space-between;\">\n",
    "<a style=\"flex: 1; text-align: left;\" href=\"./2_2_Least_square.ipynb\">← Previous: 2.2 Least Squares Estimation of the Parameters</a>\n",
    "<span style=\"flex: 1; text-align: center;\">2.3 Estimation of the Error Term</span>\n",
    "<a style=\"flex: 1; text-align: right;\" href=\"./2_4_Significance.ipynb\">Next: 2.4 Tests for the Significance of the Regression →</a>\n",
    "</div>\n"
   ]
  }
 ],
 "metadata": {
  "language_info": {
   "name": "python"
  }
 },
 "nbformat": 4,
 "nbformat_minor": 2
}
