{
 "cells": [
  {
   "cell_type": "markdown",
   "metadata": {},
   "source": [
    "<div style=\"display: flex; justify-content: space-between;\">\n",
    "<a style=\"flex: 1; text-align: left;\" href=\"./2_2_Least_square.ipynb\">← Previous: 2.2 Least Squares Estimation of the Parameters</a>\n",
    "<a style=\"flex: 1; text-align: right;\" href=\"./2_4_Significance.ipynb\">Next: 2.4 Tests for the Significance of the Regression →</a>\n",
    "</div>\n",
    "\n",
    "### 2.3 Estimation of the Error Term\n",
    "---\n"
   ]
  },
  {
   "cell_type": "markdown",
   "metadata": {},
   "source": [
    "<div style=\"text-align: justify; line-height: 2\">\n",
    "\n",
    "To estimate the variance of the error term, we use equations $(2.1.1)$ and $(2.2.2)$ to define a new matrix $M$:\n",
    "\n",
    "$$e = y - X\\beta = y - X(X'X)^{-1}X'y = My$$\n",
    "\n",
    "$$M = I - X(X'X)^{-1}X'$$\n",
    "\n",
    "</div>\n",
    "&nbsp;  \n",
    "&nbsp;  \n",
    "\n",
    "---\n",
    "\n",
    "<a name=\"footnote1\"></a>1: [PennState Eberly College of Science](./5_References.ipynb#1) (Note:7.3)  \n",
    "<a name=\"footnote2\"></a>2: [Ivan T. Ivanov](./5_References.ipynb#2)  \n",
    "<a name=\"footnote3\"></a>3: [OpenStax](./5_References.ipynb#3)  \n",
    "<a name=\"footnote4\"></a>4: [Heij, De Boer; Franses, Kloek; and Van Dijk](./5_References.ipynb#4)"
   ]
  },
  {
   "cell_type": "markdown",
   "metadata": {},
   "source": [
    "<div style=\"display: flex; justify-content: space-between;\">\n",
    "<a style=\"flex: 1; text-align: left;\" href=\"./2_2_Least_square.ipynb\">← Previous: 2.2 Least Squares Estimation of the Parameters</a>\n",
    "<span style=\"flex: 1; text-align: center;\">2.3 Estimation of the Error Term</span>\n",
    "<a style=\"flex: 1; text-align: right;\" href=\"./2_4_Significance.ipynb\">Next: 2.4 Tests for the Significance of the Regression →</a>\n",
    "</div>\n"
   ]
  }
 ],
 "metadata": {
  "language_info": {
   "name": "python"
  }
 },
 "nbformat": 4,
 "nbformat_minor": 2
}
