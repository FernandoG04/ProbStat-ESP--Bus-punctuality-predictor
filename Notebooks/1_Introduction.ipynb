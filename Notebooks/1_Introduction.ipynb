{
 "cells": [
  {
   "cell_type": "markdown",
   "metadata": {},
   "source": [
    "<div style=\"display: flex; justify-content: space-between;\">\n",
    "<a style=\"flex: 1; text-align: left;\" href=\"./0_Abstract.ipynb\">← Previous: Abstract</a>\n",
    "<a style=\"flex: 1; text-align: right;\" href=\"./2_1_Multiple_linear_regresion.ipynb\">Next: 2.1 Multiple Linear Regression →</a>\n",
    "</div>\n",
    "\n",
    "### Introduction\n",
    "---\n"
   ]
  },
  {
   "cell_type": "markdown",
   "metadata": {},
   "source": [
    "&nbsp;&nbsp;&nbsp;&nbsp;&nbsp;&nbsp; "
   ]
  },
  {
   "cell_type": "markdown",
   "metadata": {},
   "source": [
    "<div style=\"display: flex; justify-content: space-between;\">\n",
    "<a style=\"flex: 1; text-align: left;\" href=\"./0_Abstract.ipynb\">← Previous: Abstract</a>\n",
    "<span style=\"flex: 1; text-align: center;\">Introduction</span>\n",
    "<a style=\"flex: 1; text-align: right;\" href=\"./2_1_Multiple_linear_regresion.ipynb\">Next: 2.1 Multiple Linear Regression →</a>\n",
    "</div>\n"
   ]
  }
 ],
 "metadata": {
  "kernelspec": {
   "display_name": "Python 3",
   "language": "python",
   "name": "python3"
  },
  "language_info": {
   "name": "python",
   "version": "3.11.7"
  }
 },
 "nbformat": 4,
 "nbformat_minor": 2
}
