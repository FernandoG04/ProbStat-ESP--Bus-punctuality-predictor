{
 "cells": [
  {
   "cell_type": "markdown",
   "metadata": {},
   "source": [
    "<div style=\"display: flex; justify-content: space-between;\">\n<a style=\"flex: 1; text-align: left;\" href=\"./0_Abstract.ipynb\">\u2190 Previous: 0. Abstract</a>\n<a style=\"flex: 1; text-align: right;\" href=\"./2_1_Multiple_linear_regresion.ipynb\">Next: 2.1 Multiple Linear Regression \u2192</a>\n</div>\n\n### 1. Introduction\n---\n"
   ]
  },
  {
   "cell_type": "markdown",
   "metadata": {},
   "source": [
    "<div style=\"display: flex; justify-content: space-between;\">\n<a style=\"flex: 1; text-align: left;\" href=\"./0_Abstract.ipynb\">\u2190 Previous: 0. Abstract</a>\n<span style=\"flex: 1; text-align: center;\">1. Introduction</span>\n<a style=\"flex: 1; text-align: right;\" href=\"./2_1_Multiple_linear_regresion.ipynb\">Next: 2.1 Multiple Linear Regression \u2192</a>\n</div>\n"
   ]
  }
 ],
 "metadata": {
  "language_info": {
   "name": "python"
  }
 },
 "nbformat": 4,
 "nbformat_minor": 2
}