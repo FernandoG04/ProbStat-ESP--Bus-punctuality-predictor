{
 "cells": [
  {
   "cell_type": "markdown",
   "metadata": {},
   "source": [
    "<div style=\"display: flex; justify-content: space-between;\">\n",
    "<a style=\"flex: 1; text-align: left;\" href=\"./0_Abstract.ipynb\">← Previous: Abstract</a>\n",
    "<a style=\"flex: 1; text-align: right;\" href=\"./2_1_Multiple_linear_regresion.ipynb\">Next: 2.1 Multiple Linear Regression →</a>\n",
    "</div>\n",
    "\n",
    "### Introduction\n",
    "---"
   ]
  },
  {
   "cell_type": "markdown",
   "metadata": {},
   "source": [
    "<div style=\"text-align: justify; line-height: 2\">\n",
    "&nbsp;&nbsp;&nbsp;&nbsp;&nbsp;Public transportation systems play a crucial role in the mobility of urban residents, providing a more sustainable and affordable alternative to private vehicles. In Montreal, Canada, the Société de transport de Montréal (STM) operates an extensive network of buses and metro lines, amounting to over 200 million trips per year. Punctuality and reliability are key factors in the quality of service of public transportation systems.  \n",
    "\n",
    "The STM, like many other public transportation agencies, faces the challenge of minimizing delays and disruptions in its service. This is particularly true for the bus network, which is subject to the effects of traffic congestion and other external factors. Understanding the causes of delays is crucial for improving the reliability of the bus network. In this context, this project aims to explore the relationship between bus delays and various factors, such as weather conditions and traffic congestion, in order to develop a predictive model of bus delays.  \n",
    "\n",
    "The most recent annual report of the STM indicates that the punctuality of the bus network has decreased slightly in recent years, going from 82.2% in 2021 to 81.1% in 2022. Punctuality directly affects the user experience, influencing passenger trust in the reliability of bus schedules. The STM regularly monitors the punctuality of its bus network, and has set a target of 84.4% punctuality for 2025. However, understanding the specific effects of various factors on bus delays requires a more detailed analysis of the data, which prompted the development of this project.  \n",
    "\n",
    "This study delves into the relationship between weather, traffic, and bus delays, using data spanning from October 2021 to September 2023. Distinct models were developed in the process of this study, each one building on the previous one. The findings of this research provide insights into the causes of bus delays, presenting important implications for the STM and other public transportation agencies.  \n",
    "\n",
    "This project will explore the theoretical foundations of multiple linear regression, and will apply this technique to the analysis of bus delays in Montreal. This study also acknowledges the limitations, primarily related to the availability of comprehensive data, and proposes further research to address these limitations and refine predictive models of bus delays.   \n",
    "</div>\n",
    "\n",
    "&nbsp;\n",
    "&nbsp;\n",
    "\n",
    "---"
   ]
  },
  {
   "cell_type": "markdown",
   "metadata": {},
   "source": [
    "<div style=\"display: flex; justify-content: space-between;\">\n",
    "<a style=\"flex: 1; text-align: left;\" href=\"./0_Abstract.ipynb\">← Previous: Abstract</a>\n",
    "<span style=\"flex: 1; text-align: center;\">Introduction</span>\n",
    "<a style=\"flex: 1; text-align: right;\" href=\"./2_1_Multiple_linear_regresion.ipynb\">Next: 2.1 Multiple Linear Regression →</a>\n",
    "</div>\n"
   ]
  }
 ],
 "metadata": {
  "kernelspec": {
   "display_name": "Python 3",
   "language": "python",
   "name": "python3"
  },
  "language_info": {
   "name": "python",
   "version": "3.11.7"
  }
 },
 "nbformat": 4,
 "nbformat_minor": 2
}
