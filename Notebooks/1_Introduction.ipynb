{
 "cells": [
  {
   "cell_type": "markdown",
   "metadata": {},
   "source": [
    "<div style=\"display: flex; justify-content: space-between;\">\n",
    "    <a style=\"flex: 1; text-align: left;\" href=\"./0_Abstract.ipynb\">← Previous: Abstract</a>\n",
    "    <a style=\"flex: 1; text-align: right;\" href=\"./2_1_Multiple_linear_regresion.ipynb\">Next: 2. Theory →</a>\n",
    "</div>\n",
    "\n",
    "### 1. Introduction \n",
    "---"
   ]
  }
 ],
 "metadata": {
  "language_info": {
   "name": "python"
  }
 },
 "nbformat": 4,
 "nbformat_minor": 2
}
