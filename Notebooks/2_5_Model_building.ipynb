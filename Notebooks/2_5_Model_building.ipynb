{
 "cells": [
  {
   "cell_type": "markdown",
   "metadata": {},
   "source": [
    "<div style=\"display: flex; justify-content: space-between;\">\n",
    "<a style=\"flex: 1; text-align: left;\" href=\"./2_4_Significance.ipynb\">← Previous: 2.4 Tests for the Significance of the Regression</a>\n",
    "<a style=\"flex: 1; text-align: right;\" href=\"./3_1_1_Bus.ipynb\">Next: 3.1.1 Bus Data →</a>\n",
    "</div>\n",
    "\n",
    "### 2.5 Model Building\n",
    "---\n"
   ]
  },
  {
   "cell_type": "markdown",
   "metadata": {},
   "source": [
    "<div style=\"display: flex; justify-content: space-between;\">\n",
    "<a style=\"flex: 1; text-align: left;\" href=\"./2_4_Significance.ipynb\">← Previous: 2.4 Tests for the Significance of the Regression</a>\n",
    "<span style=\"flex: 1; text-align: center;\">2.5 Model Building</span>\n",
    "<a style=\"flex: 1; text-align: right;\" href=\"./3_1_1_Bus.ipynb\">Next: 3.1.1 Bus Data→</a>\n",
    "</div>\n"
   ]
  }
 ],
 "metadata": {
  "language_info": {
   "name": "python"
  }
 },
 "nbformat": 4,
 "nbformat_minor": 2
}
