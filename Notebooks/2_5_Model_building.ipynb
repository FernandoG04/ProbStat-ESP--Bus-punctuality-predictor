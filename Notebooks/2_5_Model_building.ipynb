{
 "cells": [
  {
   "cell_type": "markdown",
   "metadata": {},
   "source": [
    "<div style=\"display: flex; justify-content: space-between;\">\n",
    "<a style=\"flex: 1; text-align: left;\" href=\"./2_4_Significance.ipynb\">← Previous: 2.4 Tests for the Significance of the Regression</a>\n",
    "<a style=\"flex: 1; text-align: right;\" href=\"./3_1_1_Bus.ipynb\">Next: 3.1.1 Bus Data →</a>\n",
    "</div>\n",
    "\n",
    "### 2.5 Model Building\n",
    "---\n"
   ]
  },
  {
   "cell_type": "markdown",
   "metadata": {},
   "source": [
    "<div style=\"text-align: justify; line-height: 2\">\n",
    "\n",
    "\n",
    "\n",
    "\n",
    "\n",
    "<sup><a href=\"#footnote2\">2</a></sup>\n",
    "\n",
    "</div>\n",
    "&nbsp;  \n",
    "&nbsp;  \n",
    "\n",
    "---\n",
    "\n",
    "<a name=\"footnote1\"></a>1: [PennState Eberly College of Science](./5_References.ipynb#1)  \n",
    "<a name=\"footnote2\"></a>2: [Ivan T. Ivanov](./5_References.ipynb#2)  \n",
    "<a name=\"footnote3\"></a>3: [OpenStax](./5_References.ipynb#3)  \n",
    "<a name=\"footnote4\"></a>4: [Heij, De Boer; Franses, Kloep; and Van Dijk](./5_References.ipynb#4)  \n",
    "<a name=\"footnote5\"></a>5: [Mostoufi, Navid; Constantinides, Alkis](./5_References.ipynb#5)"
   ]
  },
  {
   "cell_type": "markdown",
   "metadata": {},
   "source": [
    "<div style=\"display: flex; justify-content: space-between;\">\n",
    "<a style=\"flex: 1; text-align: left;\" href=\"./2_4_Significance.ipynb\">← Previous: 2.4 Tests for the Significance of the Regression</a>\n",
    "<span style=\"flex: 1; text-align: center;\">2.5 Model Building</span>\n",
    "<a style=\"flex: 1; text-align: right;\" href=\"./3_1_1_Bus.ipynb\">Next: 3.1.1 Bus Data→</a>\n",
    "</div>\n"
   ]
  }
 ],
 "metadata": {
  "language_info": {
   "name": "python"
  }
 },
 "nbformat": 4,
 "nbformat_minor": 2
}
