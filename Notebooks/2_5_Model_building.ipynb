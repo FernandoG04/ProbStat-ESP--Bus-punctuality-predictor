{
 "cells": [
  {
   "cell_type": "markdown",
   "metadata": {},
   "source": [
    "<div style=\"display: flex; justify-content: space-between;\">\n<a style=\"flex: 1; text-align: left;\" href=\"./2_4_Significance.ipynb\">\u2190 Previous: 2.4 Tests for the Significance of the Regression</a>\n<a style=\"flex: 1; text-align: right;\" href=\"./3_1_1_Bus.ipynb\">Next: 3.1.1 Bus \u2192</a>\n</div>\n\n### 2.5 Model Building\n---\n"
   ]
  }
 ],
 "metadata": {},
 "nbformat": 4,
 "nbformat_minor": 2
}