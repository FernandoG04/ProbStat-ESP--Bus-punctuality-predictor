{
 "cells": [
  {
   "cell_type": "markdown",
   "metadata": {},
   "source": [
    "# **Data Wrangling**\n",
    "\n",
    "> The purpose of this script is to modify the bus data provided by the STM and the historical weather data obtained from the Government of Canada site.  \n",
    "> Running this script is not necessary as the modified data is available upon download/cloning of the repository."
   ]
  },
  {
   "cell_type": "code",
   "execution_count": null,
   "metadata": {},
   "outputs": [],
   "source": [
    "import os\n",
    "import pandas as pd\n",
    "import numpy as np\n",
    "import time\n",
    "import urllib.request\n",
    "import glob\n",
    "from datetime import datetime, timedelta"
   ]
  },
  {
   "cell_type": "markdown",
   "metadata": {},
   "source": [
    "## STM Data\n",
    "\n",
    "> This data was provided by the STM under the terms of the *Act respecting access to documents held by public bodies and the protection of personal information (R.S.Q., chapter A-2.1)*."
   ]
  },
  {
   "cell_type": "code",
   "execution_count": null,
   "metadata": {},
   "outputs": [],
   "source": [
    "# Merge STM files\n",
    "\n",
    "STM_1_df = pd.read_csv('../Data/Transit data/STM_Data_2021_2022.csv', dtype={0: str, 2: str, 3: str, 4: str, 5: str, 6: str, 7: str})\n",
    "STM_2_df = pd.read_csv('../Data/Transit data/STM_Data_2023.csv', dtype={0: str, 2: str, 3: str, 4: str, 5: str, 6: str, 7: str})\n",
    "STM_1_df = STM_1_df.dropna(how='all')\n",
    "STM_df = pd.concat([STM_1_df, STM_2_df], ignore_index=True)\n",
    "\n",
    "# Remove duplicate rows\n",
    "original_df = STM_df.copy()\n",
    "STM_df = STM_df.drop_duplicates()\n",
    "removed_rows = original_df[~original_df.index.isin(STM_df.index)]\n",
    "\n",
    "STM_df.head()"
   ]
  },
  {
   "cell_type": "code",
   "execution_count": null,
   "metadata": {},
   "outputs": [],
   "source": [
    "# Date and time formatting\n",
    "# The date and time columns are given in HH:MM:SS as strings, we convert them to datetime objects with their assigned time to find delays later\n",
    "\n",
    "# Change data format from YYYY/MM/DD to YYYY-MM-DD and assign to hour columns, HH:MM:SS is changed to YYYY-MM-DD HH:MM:SS\n",
    "try:\n",
    "    STM_df['date'] = STM_df['date'].str.replace('/', '-')\n",
    "    STM_df['date'] = pd.to_datetime(STM_df['date'],errors='coerce')\n",
    "except Exception as e:\n",
    "    print(f\"An error occurred while converting the Date: {e}\")\n",
    "\n",
    "try:\n",
    "    for col in ['dep_pl', 'dep_rl', 'arr_pl', 'arr_rl']:\n",
    "        STM_df[col] = pd.to_datetime(STM_df[col], format='%H:%M:%S').dt.time\n",
    "        STM_df[col] = STM_df[col].astype(str)\n",
    "        STM_df[col] = STM_df['date'].astype(str) + ' ' + STM_df[col]\n",
    "        STM_df[col] = pd.to_datetime(STM_df[col], errors='coerce')\n",
    "except Exception as e:\n",
    "    print(f\"An error occurred while converting the Time: {e}\")\n",
    "\n",
    "# Some datapoints have a trip that was scheduled for a day but actually occurred the next day, this is compensated for as follows:\n",
    "\n",
    "#   If the time in pl column is after 23:00 and in rl column is before 1:00, add 1 day to the date in rl column\n",
    "#   -> This is to account for arrivals that were scheduled for late night but actually occurred early morning\n",
    "#   If the time in pl column is before 1:00 and in rl column is after 23:00, substract 1 day to the date in rl column\n",
    "#   -> This is to account for arrivals that were scheduled for early morning but actually occurred late the previous night\n",
    "\n",
    "def adjust_dates(row):\n",
    "    if row['dep_pl'].hour >= 23 and row['dep_rl'].hour < 1:\n",
    "        row['dep_rl'] += pd.Timedelta(days=1)\n",
    "    elif row['dep_pl'].hour < 1 and row['dep_rl'].hour >= 23:\n",
    "        row['dep_rl'] -= pd.Timedelta(days=1)\n",
    "\n",
    "    if row['arr_pl'].hour >= 23 and row['arr_rl'].hour < 1:\n",
    "        row['arr_rl'] += pd.Timedelta(days=1)\n",
    "    elif row['arr_pl'].hour < 1 and row['arr_rl'].hour >= 23:\n",
    "        row['arr_rl'] -= pd.Timedelta(days=1)\n",
    "    \n",
    "    return row\n",
    "\n",
    "STM_df = STM_df.apply(adjust_dates, axis=1)\n",
    "\n",
    "# Slice the time to only keep HH:MM\n",
    "try:\n",
    "    STM_df[['dep_pl', 'dep_rl', 'arr_pl', 'arr_rl']] = STM_df[['dep_pl', 'dep_rl', 'arr_pl', 'arr_rl']].apply(lambda x: x.str.slice(stop=5))\n",
    "except Exception as e:\n",
    "    print(f\"An error occurred while slicing the Time: {e}\")\n",
    "\n",
    "STM_df.head()"
   ]
  },
  {
   "cell_type": "code",
   "execution_count": null,
   "metadata": {},
   "outputs": [],
   "source": [
    "#Indexing\n",
    "\n",
    "#Reset the index before adding the new 'id' column\n",
    "STM_df = STM_df.reset_index(drop=True)\n",
    "\n",
    "#add an index with the name 'id' for which the numbers start with a period\n",
    "STM_df['id'] = STM_df.index + 1\n",
    "STM_df['id'] = STM_df['id'].apply(lambda x: '.' + str(x))\n",
    "\n",
    "#move index to the first column\n",
    "cols = list(STM_df.columns)\n",
    "cols = [cols[-1]] + cols[:-1]\n",
    "STM_df = STM_df[cols]\n",
    "\n",
    "STM_df.head()\n"
   ]
  },
  {
   "cell_type": "code",
   "execution_count": null,
   "metadata": {},
   "outputs": [],
   "source": [
    "# Uncomment to save the dataframe as a csv file\n",
    "# STM_df.to_csv('../Data/Transit data/STM_Data.csv', index=False)"
   ]
  },
  {
   "cell_type": "markdown",
   "metadata": {},
   "source": [
    "## Weather Data"
   ]
  },
  {
   "cell_type": "markdown",
   "metadata": {},
   "source": [
    ">The weather data is retrieved in the following cells from the Environment Canada website. \\\n",
    ">More information at *https://climate.weather.gc.ca/historical_data/search_historic_data_e.html* "
   ]
  },
  {
   "cell_type": "code",
   "execution_count": null,
   "metadata": {},
   "outputs": [],
   "source": [
    "# Change the language of the following cell to Python to enable the extraction of the data from the website"
   ]
  },
  {
   "cell_type": "raw",
   "metadata": {
    "tags": []
   },
   "source": [
    "# Select search parameters\n",
    "yi = 2021 # Select start year\n",
    "yf = 2023 + 1 # Select end year\n",
    "station = 30165 # Select station ID (Montreal-Trudeau Airport is 30165)\n",
    "\n",
    "\n",
    "#Retrieve daily weather data from the Government of Canada website and store in Individual Files folder\n",
    "for year in range(yi, yf):\n",
    "        url = 'https://climate.weather.gc.ca/climate_data/bulk_data_e.html?format=csv&stationID=' + str(station) + '&Year=' + str(year) + '&Month=1&Day=14&timeframe=2&submit=Download+Data'\n",
    "        filename = os.path.join('../Data/Weather Data/Individual Files', 'daily_montreal_weather_' + str(year) + '.csv')\n",
    "        try: \n",
    "            urllib.request.urlretrieve(url, filename)\n",
    "        except Exception as e:\n",
    "            print(f\"An error occurred while downloading data for year {year} and month {month}: {e}\")\n",
    "        time.sleep(5)\n",
    "\n",
    "#Retrieve hourly weather data from the Government of Canada website and store in Individual Files folder\n",
    "for year in range(yi, yf):\n",
    "   \n",
    "    if year == 2021:\n",
    "        mi = 10\n",
    "        mf = 12 + 1\n",
    "    elif year == 2023:\n",
    "        mi = 1\n",
    "        mf = 9 + 1\n",
    "    else:\n",
    "        mi = 1\n",
    "        mf = 12 + 1\n",
    "    for month in range(mi, mf):\n",
    "        if month < 10:\n",
    "            month = '0' + str(month)\n",
    "        else:\n",
    "            #month = str(month)\n",
    "        url = 'https://climate.weather.gc.ca/climate_data/bulk_data_e.html?format=csv&time=UTC&stationID=' + str(station) + '&Year=' + str(year) + '&Month=' + str(month) + '&Day=14&timeframe=1&submit=Download+Data'\n",
    "        filename = os.path.join('../Data/Weather Data/Individual Files', 'hourly_montreal_weather_' + str(year) + '_' + str(month) + '.csv')\n",
    "        try: \n",
    "            #urllib.request.urlretrieve(url, filename)\n",
    "        except Exception as e:\n",
    "            print(f\"An error occurred while downloading data for year {year} and month {month}: {e}\")\n",
    "        time.sleep(5)\n",
    "\n",
    "# merge all csv files into their corresponing dataframes and store them in the Weather Data folder\n",
    "all_dailyw = glob.glob(os.path.join('../Data/Weather Data/Individual Files', \"daily_montreal_weather_*.csv\")) \n",
    "all_hourlyw = glob.glob(os.path.join('../Data/Weather Data/Individual Files', \"hourly_montreal_weather_*.csv\"))\n",
    "\n",
    "df_all_dailyw = (pd.read_csv(f) for f in all_dailyw)\n",
    "df_dailyw = pd.concat(df_all_dailyw, ignore_index=True)\n",
    "df_all_hourlyw = (pd.read_csv(f) for f in all_hourlyw)\n",
    "df_hourlyw = pd.concat(df_all_hourlyw, ignore_index=True)\n",
    "\n",
    "df_dailyw.to_csv('../Data/Weather Data/daily_montreal_weather.csv', index=False)\n",
    "df_hourlyw.to_csv('../Data/Weather Data/hourly_montreal_weather.csv', index=False)\n",
    "\n",
    "# delete all individual csv files\n",
    "files = glob.glob('../Data/Weather Data/Individual Files/*')\n",
    "for f in files:\n",
    "    os.remove(f)"
   ]
  },
  {
   "cell_type": "markdown",
   "metadata": {},
   "source": [
    "1. Daily data for snow"
   ]
  },
  {
   "cell_type": "code",
   "execution_count": null,
   "metadata": {},
   "outputs": [],
   "source": [
    "# Read back the daily weather data to perform formatting\n",
    "# Since snow on ground is only available for daily data, the presence of snow is determined by the daily data, shown as Y/N\n",
    "# The daily data is later applied to the hourly data (see master data below)\n",
    "\n",
    "df_dailyw = pd.read_csv('../Data/Weather Data/daily_montreal_weather.csv', dtype={0: str, 2: str, 3: str, 4: str, 5: str, 6: str, 7: str})\n",
    "df_dailyw = df_dailyw.dropna(axis=1, how='all')\n",
    "df_dailyw = df_dailyw.rename(columns={'Date/Time': 'date', 'Snow on Grnd (cm)': 'snow'})"
   ]
  },
  {
   "cell_type": "code",
   "execution_count": null,
   "metadata": {},
   "outputs": [],
   "source": [
    "#Date and time formatting\n",
    "# Change date format and remove rows with dates that are not in the STM data\n",
    "try:\n",
    "    df_dailyw['date'] = pd.to_datetime(df_dailyw['date'],errors='coerce')\n",
    "except Exception as e:\n",
    "    print(f\"An error occurred while converting the Date: {e}\")\n",
    "    \n",
    "df_dailyw = df_dailyw[df_dailyw['date'].isin(STM_df['date'])]"
   ]
  },
  {
   "cell_type": "code",
   "execution_count": null,
   "metadata": {},
   "outputs": [],
   "source": [
    "#Place the date and snow columns first and remove the rest\n",
    "\n",
    "cols = df_dailyw.columns.tolist()  \n",
    "fifth_col = cols[4]\n",
    "fifth_to_last_col = cols[-5]\n",
    "cols = [col for col in cols if col not in {cols[4], fifth_to_last_col}]\n",
    "cols = [fifth_col, fifth_to_last_col]\n",
    "df_dailyw = df_dailyw[cols]\n",
    "\n",
    "# place a value of 0 for snow if NaN\n",
    "df_dailyw['snow'] = df_dailyw['snow'].fillna(0)\n",
    "\n",
    "# place a value of Y for snow if >0 and N if 0 or Nan in a new column\n",
    "df_dailyw['snow_yn'] = np.where(df_dailyw['snow'] > 0, 'Y', 'N')"
   ]
  },
  {
   "cell_type": "code",
   "execution_count": null,
   "metadata": {},
   "outputs": [],
   "source": [
    "#Uncomment to save the dataframe as a csv file\n",
    "#df_dailyw.to_csv('../Data/Weather Data/daily_montreal_weather.csv', index=False)"
   ]
  },
  {
   "cell_type": "markdown",
   "metadata": {},
   "source": [
    "2) Hourly data for precipitation"
   ]
  },
  {
   "cell_type": "code",
   "execution_count": null,
   "metadata": {},
   "outputs": [],
   "source": [
    "# Read back the hourly weather data to perform formatting\n",
    "# The hourly data is formatted as UTC, the time is converted to EST\n",
    "df_hourlyw = pd.read_csv('../Data/Weather Data/hourly_montreal_weather.csv', dtype={0: str, 2: str, 3: str, 4: str, 5: str, 6: str, 7: str})\n",
    "df_hourlyw = df_hourlyw.dropna(axis=1, how='all')\n",
    "df_hourlyw = df_hourlyw.rename(columns={'Date/Time (UTC)': 'date', 'Time (UTC)': 'time', 'Temp (°C)' : 'temp', 'Precip. Amount (mm)' : 'precip'})"
   ]
  },
  {
   "cell_type": "code",
   "execution_count": null,
   "metadata": {},
   "outputs": [],
   "source": [
    "# Change format of date columns to datetime, change from UTC to EST taking into account daylight savings time\n",
    "# Change time column to reflect the time in the date column\n",
    "try:\n",
    "    df_hourlyw['date'] = pd.to_datetime(df_hourlyw['date'],errors='coerce')\n",
    "except Exception as e:\n",
    "    print(f\"An error occurred while converting the Date: {e}\")\n",
    "\n",
    "df_hourlyw['date'] = df_hourlyw['date'].dt.tz_localize('UTC').dt.tz_convert('America/Montreal')\n",
    "df_hourlyw['time'] = df_hourlyw['date'].dt.strftime('%H:%M')\n",
    "df_hourlyw['date'] = df_hourlyw['date'].dt.date\n",
    "\n",
    "# Change date format and remove rows with dates that are not in the STM data\n",
    "try:\n",
    "    df_hourlyw['date'] = pd.to_datetime(df_hourlyw['date'],errors='coerce')\n",
    "except Exception as e:\n",
    "    print(f\"An error occurred while converting the Date: {e}\")\n",
    "    \n",
    "df_hourlyw = df_hourlyw[df_hourlyw['date'].isin(STM_df['date'])]\n",
    "\n",
    "# place the date, time, temp and precip columns first and remove the rest\n",
    "cols = df_hourlyw.columns.tolist()\n",
    "date_col = cols[4]\n",
    "time_col = cols[8]\n",
    "temp_col = cols[9]\n",
    "precip_col = cols[12]\n",
    "cols = [col for col in cols if col not in {date_col, time_col, temp_col, precip_col}]\n",
    "cols = [date_col, time_col, temp_col, precip_col]\n",
    "df_hourlyw = df_hourlyw[cols]"
   ]
  },
  {
   "cell_type": "code",
   "execution_count": null,
   "metadata": {},
   "outputs": [],
   "source": [
    "#Uncomment to save the dataframe as a csv file\n",
    "#df_hourlyw.to_csv('../Data/Weather Data/hourly_montreal_weather.csv', index=False)"
   ]
  },
  {
   "cell_type": "markdown",
   "metadata": {},
   "source": [
    "## Master data"
   ]
  },
  {
   "cell_type": "markdown",
   "metadata": {},
   "source": [
    "> The master data used for this project includes the following:\n",
    "> - Bus data\n",
    ">   - Date*\n",
    ">   - Line\n",
    ">   - Start time\n",
    ">   - Start delay\n",
    ">   - End time*\n",
    "> - Weather data\n",
    ">   - Temperature at start \n",
    ">   - Rain amount\n",
    ">   - Snow amount\n",
    ">   - Total snow*\n",
    ">\n",
    "> These variables will be used to predict the end delay.  \n",
    "> *: These variables are included in the master data for later use, but they are not used as predictors"
   ]
  },
  {
   "cell_type": "code",
   "execution_count": null,
   "metadata": {},
   "outputs": [],
   "source": [
    "from datetime import datetime, timedelta"
   ]
  },
  {
   "cell_type": "markdown",
   "metadata": {},
   "source": [
    "1. Bus data (date, line, start_time, end_time)"
   ]
  },
  {
   "cell_type": "code",
   "execution_count": null,
   "metadata": {},
   "outputs": [],
   "source": [
    "# Create a new dataframe for the master data with columns from the STM data\n",
    "STM_df = pd.read_csv('../Data/Transit data/STM_Data.csv',  dtype={0: str, 2: str, 3: str, 4: str, 5: str, 6: str, 7: str,8:str})\n",
    "df_master = STM_df[['id','date', 'ligne', 'dep_rl', 'arr_rl']]\n",
    "df_hourlyw = pd.read_csv('../Data/Weather Data/hourly_montreal_weather.csv',  dtype={0: str, 2: str, 3: str, 4: str, 5: str, 6: str, 7: str})\n",
    "df_dailyw = pd.read_csv('../Data/Weather Data/daily_montreal_weather.csv',  dtype={0: str, 2: str, 3: str, 4: str, 5: str, 6: str, 7: str})\n",
    "\n",
    "df_master = df_master.rename(columns={'dep_rl': 'start_time', 'arr_rl': 'end_time', 'ligne': 'line'})\n",
    "df_hourlyw['date'] = pd.to_datetime(df_hourlyw['date'], errors='coerce')\n",
    "df_dailyw['date'] = pd.to_datetime(df_dailyw['date'], errors='coerce')\n",
    "\n",
    "#Cut the date from the start_time column and keep only the time as HH:MM\n",
    "for col in ['start_time', 'end_time']:\n",
    "    df_master[col] = df_master[col].astype(str)\n",
    "    df_master[col] = df_master[col].str.slice(start=11, stop=16)\n",
    "    df_master[col] = pd.to_datetime(df_master[col], format='%H:%M', errors='coerce').dt.time\n",
    "\n",
    "# delete nan values in the start_time column\n",
    "df_master = df_master.dropna(subset=['start_time'])\n",
    "\n",
    "df_master.head()"
   ]
  },
  {
   "cell_type": "markdown",
   "metadata": {},
   "source": [
    "2. Temperature at start (temp_start)"
   ]
  },
  {
   "cell_type": "code",
   "execution_count": null,
   "metadata": {},
   "outputs": [],
   "source": [
    "# Add temp_start column to the master data, using the hourly weather data which matches the date and hour of the start time\n",
    "# Must create an hour columm in the master data to match the time column in the weather data (HH:MM)\n",
    "# Match atch the start hour with the next hour in the weather data since the weather time is the end of the hour\n",
    "\n",
    "df_master['hour'] = df_master['start_time'].astype(str)\n",
    "df_master['hour'] = df_master['hour'].str.slice(start=0, stop=2)\n",
    "df_master['hour'] = df_master['hour'].astype(int)\n",
    "df_master['hour'] = df_master['hour'] + 1\n",
    "df_master['hour'] = df_master['hour'].astype(str)\n",
    "df_master['hour'] = df_master['hour'].str.pad(width=2, side='left', fillchar='0')\n",
    "df_master['hour'] = df_master['hour'] + ':00'\n",
    "\n",
    "# Rename the time column in hourly data to hour\n",
    "df_hourlyw = df_hourlyw.rename(columns={'time': 'hour'})\n",
    "\n",
    "df_master['date'] = pd.to_datetime(df_master['date'])\n",
    "df_hourlyw['date'] = pd.to_datetime(df_hourlyw['date'])\n",
    "\n",
    "df_master = pd.merge(df_master, df_hourlyw, how='left', on=['date', 'hour'])\n",
    "df_master = df_master.rename(columns={'temp': 'temp_start'})\n",
    "df_master = df_master.drop(columns=['hour'])\n",
    "\n",
    "df_master.head()"
   ]
  },
  {
   "cell_type": "markdown",
   "metadata": {},
   "source": [
    "3. Precipitation (snow_amt, rain_amt)"
   ]
  },
  {
   "cell_type": "code",
   "execution_count": null,
   "metadata": {},
   "outputs": [],
   "source": [
    "# Add rain_amt and snow_amt columns to the master data, using the daily weather data which matches the date\n",
    "# For the snow_amt column, if the snow_yn column is Y, then take the value of the precip column, otherwise set to 0\n",
    "# For the rain_amt column, if the snow_yn column is N, then take the value of the precip column, otherwise set to 0\n",
    "\n",
    "df_master = pd.merge(df_master, df_dailyw, how='left', left_on=['date'], right_on=['date'])\n",
    "df_master = df_master.rename(columns={'precip': 'rain_amt', 'snow': 'total_snow'})\n",
    "df_master['snow_amt'] = np.where(df_master['snow_yn'] == 'Y', df_master['rain_amt'], 0)\n",
    "df_master['rain_amt'] = np.where(df_master['snow_yn'] == 'N', df_master['rain_amt'], 0)\n",
    "df_master = df_master.drop(columns=['snow_yn',])\n",
    "\n",
    "df_master.head()"
   ]
  },
  {
   "cell_type": "markdown",
   "metadata": {},
   "source": [
    "4. Delays (delay_start, delay_end)"
   ]
  },
  {
   "cell_type": "code",
   "execution_count": null,
   "metadata": {},
   "outputs": [],
   "source": [
    "# Import dep_pl, dep_rl, arr_pl, arr_rl columns from the stm data to the master data\n",
    "# Cut the seconds off from the time columns\n",
    "df_master = pd.merge(df_master, STM_df[['id', 'dep_pl', 'dep_rl', 'arr_pl', 'arr_rl']], how='left', left_on=['id'], right_on=['id'])\n",
    "\n",
    "for col in ['dep_pl', 'dep_rl', 'arr_pl', 'arr_rl']:\n",
    "    df_master[col] = df_master[col].astype(str)\n",
    "    df_master[col] = df_master[col].str.slice(start=0, stop=16)\n",
    "    df_master[col] = df_master[col] + ':00'\n",
    "    df_master[col] = pd.to_datetime(df_master[col], format='%Y-%m-%d %H:%M:%S', errors='coerce')\n",
    "\n",
    "# Find the delays in minutes between the planned and real departure times in minutes\n",
    "df_master['delay_start'] = (df_master['dep_rl'] - df_master['dep_pl']).dt.total_seconds() / 60\n",
    "df_master['delay_start'] = df_master['delay_start'].astype(int)\n",
    "\n",
    "df_master['delay_end'] = (df_master['arr_rl'] - df_master['arr_pl']).dt.total_seconds() / 60\n",
    "df_master['delay_end'] = df_master['delay_end'].astype(int)\n",
    "\n",
    "df_master = df_master.drop(columns=['dep_pl', 'dep_rl', 'arr_pl', 'arr_rl'])\n",
    "\n",
    "df_master.head()\n"
   ]
  },
  {
   "cell_type": "code",
   "execution_count": null,
   "metadata": {},
   "outputs": [],
   "source": [
    "# Verify that there are no delays whose absolute value is greater than 10h\n",
    "\n",
    "pd.set_option('display.max_rows', None)\n",
    "pd.set_option('display.max_columns', None)\n",
    "\n",
    "print(df_master.loc[abs(df_master['delay_start']) > 600])\n",
    "print(df_master.loc[abs(df_master['delay_end']) > 600])"
   ]
  },
  {
   "cell_type": "markdown",
   "metadata": {},
   "source": [
    "5. Organization"
   ]
  },
  {
   "cell_type": "code",
   "execution_count": null,
   "metadata": {},
   "outputs": [],
   "source": [
    "cols = df_master.columns.tolist()\n",
    "id_col = cols[0]\n",
    "date_col = cols[1]\n",
    "line_col = cols[2]\n",
    "delay_start_col = cols[9]\n",
    "cols = [col for col in cols if col not in {id_col,date_col, line_col, delay_start_col}]\n",
    "\n",
    "cols = [id_col,date_col, line_col, delay_start_col] + cols\n",
    "df_master = df_master[cols]\n",
    "\n",
    "df_master.head()\n"
   ]
  },
  {
   "cell_type": "code",
   "execution_count": null,
   "metadata": {},
   "outputs": [],
   "source": [
    "# show unique line values\n",
    "print(df_master['line'].unique())\n",
    "print(STM_df['ligne'].unique())"
   ]
  },
  {
   "cell_type": "code",
   "execution_count": null,
   "metadata": {},
   "outputs": [],
   "source": [
    "#seems like the STM did not provide data for the 193 line ._."
   ]
  },
  {
   "cell_type": "code",
   "execution_count": null,
   "metadata": {},
   "outputs": [],
   "source": [
    "#Uncomment to save the dataframe as a csv file\n",
    "#df_master.to_csv('../Data/master_data.csv', index=False)"
   ]
  }
 ],
 "metadata": {
  "kernelspec": {
   "display_name": "Python 3",
   "language": "python",
   "name": "python3"
  },
  "language_info": {
   "codemirror_mode": {
    "name": "ipython",
    "version": 3
   },
   "file_extension": ".py",
   "mimetype": "text/x-python",
   "name": "python",
   "nbconvert_exporter": "python",
   "pygments_lexer": "ipython3",
   "version": "3.11.6"
  }
 },
 "nbformat": 4,
 "nbformat_minor": 2
}
